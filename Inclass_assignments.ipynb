{
  "nbformat": 4,
  "nbformat_minor": 0,
  "metadata": {
    "colab": {
      "provenance": [],
      "authorship_tag": "ABX9TyOzauwHevFwR5wfTHo3P+2R",
      "include_colab_link": true
    },
    "kernelspec": {
      "name": "python3",
      "display_name": "Python 3"
    },
    "language_info": {
      "name": "python"
    }
  },
  "cells": [
    {
      "cell_type": "markdown",
      "metadata": {
        "id": "view-in-github",
        "colab_type": "text"
      },
      "source": [
        "<a href=\"https://colab.research.google.com/github/Axc3129/BTE320-in-class/blob/main/Inclass_assignments.ipynb\" target=\"_parent\"><img src=\"https://colab.research.google.com/assets/colab-badge.svg\" alt=\"Open In Colab\"/></a>"
      ]
    },
    {
      "cell_type": "code",
      "execution_count": null,
      "metadata": {
        "id": "l8WNeu8bkCtD",
        "colab": {
          "base_uri": "https://localhost:8080/"
        },
        "outputId": "76e72024-f61f-4414-956b-c45156507aef"
      },
      "outputs": [
        {
          "output_type": "stream",
          "name": "stdout",
          "text": [
            "244.92000000000002\n"
          ]
        }
      ],
      "source": [
        "# Assignment 1\n",
        "\n",
        "# Calculate the surface area cylinder\n",
        "pi = 3.14 # Pi\n",
        "h = 10 # Height\n",
        "r = 3 # Radius\n",
        "\n",
        "# Calc Area\n",
        "Area = 2*pi*r*h + 2*pi*r**2\n",
        "# Display result on screen\n",
        "print (Area)"
      ]
    },
    {
      "cell_type": "markdown",
      "source": [],
      "metadata": {
        "id": "nbwdAtWT2YsU"
      }
    },
    {
      "cell_type": "markdown",
      "source": [],
      "metadata": {
        "id": "k28cTr592YFq"
      }
    },
    {
      "cell_type": "code",
      "source": [
        "# Assignment 2 rock paper scissor\n",
        "continue_playing =input('Play? yes or no: ')\n",
        "while continue_playing == 'yes':\n",
        "\n",
        "  p1 = input('Enter player 1 move(r-> rock, p-> paper, s-> scissors): ')\n",
        "  p2 = input('Enter player 2 move (r-> rock, p-> paper, s-> scissors): ')\n",
        "\n",
        "  if p1 == p2:\n",
        "    print (\"Draw\")\n",
        "  elif p1 == 'r' and p2 == 's':\n",
        "    print (\"Player 1 wins\")\n",
        "  elif p1 == 'p' and p2 == 'r':\n",
        "    print (\"Player 1 wins\")\n",
        "  elif p1 == 's' and p2 == 'p':\n",
        "    print (\"Player 1 wins\")\n",
        "  elif p1 == 's' and p2 == 'r':\n",
        "    print (\"Player 2 wins\")\n",
        "  elif p1 == 'r' and p2 == 'p':\n",
        "    print (\"Player 2 wins\")\n",
        "  elif p1 == 's' and p2 == 'p':\n",
        "    print (\"Player 2 wins\")\n",
        "\n",
        "  continue_playing =input('Play again? yes or no: ')"
      ],
      "metadata": {
        "id": "7Lx7tVKd0fWK",
        "colab": {
          "base_uri": "https://localhost:8080/"
        },
        "outputId": "d4390fd7-7a54-4237-c62c-b0c514a27221"
      },
      "execution_count": null,
      "outputs": [
        {
          "name": "stdout",
          "output_type": "stream",
          "text": [
            "Play? yes or no: yes\n",
            "Enter player 1 move(r-> rock, p-> paper, s-> scissors): p\n",
            "Enter player 2 move (r-> rock, p-> paper, s-> scissors): r\n",
            "Player 1 wins\n",
            "Play again? yes or no: yes\n",
            "Enter player 1 move(r-> rock, p-> paper, s-> scissors): p\n",
            "Enter player 2 move (r-> rock, p-> paper, s-> scissors): s\n",
            "Play again? yes or no: no\n"
          ]
        }
      ]
    },
    {
      "cell_type": "code",
      "source": [
        "# Assignment 3\n",
        "n1 = float(input('Enter first number: '))\n",
        "n2 = float(input('Enter second number: '))\n",
        "symbol= input('Enter symbol (+,-,*,/,**): ')\n",
        "\n",
        "if symbol == '+':\n",
        "  print (n1+n2)\n",
        "elif symbol == '-':\n",
        "  print (n1-n2)\n",
        "elif symbol == '*':\n",
        "  print (n1*n2)\n",
        "elif symbol == '/':\n",
        "  print (n1/n2)\n",
        "elif symbol == '**':\n",
        "  print (n1**n2)\n"
      ],
      "metadata": {
        "colab": {
          "base_uri": "https://localhost:8080/"
        },
        "id": "EmAG0QrS5Pi8",
        "outputId": "e97be5d7-2be7-487e-ea8d-1851bc8df2bb"
      },
      "execution_count": null,
      "outputs": [
        {
          "output_type": "stream",
          "name": "stdout",
          "text": [
            "Enter first number: 8\n",
            "Enter second number: 8\n",
            "Enter symbol (+,-,*,/,**): +\n",
            "16.0\n"
          ]
        }
      ]
    },
    {
      "cell_type": "code",
      "source": [
        "# Assignment 4\n",
        "\n",
        "flat_rate = 5\n",
        "hourly_rate = 2.5\n",
        "Minimum_fee = 10\n",
        "Maximum_fee = 20\n",
        "\n",
        "for i in range (1,9):\n",
        " charge = flat_rate + i * hourly_rate\n",
        " if charge < Minimum_fee:\n",
        "  charge = Minimum_fee\n",
        " elif charge > Maximum_fee:\n",
        "  charge = Maximum_fee\n",
        " print(i, charge)\n"
      ],
      "metadata": {
        "id": "AU8fjqaJym9T",
        "colab": {
          "base_uri": "https://localhost:8080/"
        },
        "outputId": "0a400d12-a12b-4d2e-995e-e81851497cdf"
      },
      "execution_count": null,
      "outputs": [
        {
          "output_type": "stream",
          "name": "stdout",
          "text": [
            "1 10\n",
            "2 10.0\n",
            "3 12.5\n",
            "4 15.0\n",
            "5 17.5\n",
            "6 20.0\n",
            "7 20\n",
            "8 20\n"
          ]
        }
      ]
    },
    {
      "cell_type": "code",
      "source": [
        "# Assignment 5\n",
        "\n",
        "print('Ad$', 'Profit')\n",
        "\n",
        "for ad in range (0,201,25):\n",
        "  additionalAttendees = round(2 * ad ** 0.5)\n",
        "  profit = (20 + additionalAttendees) * 10 - ad - 200\n",
        "  print(ad,' ', profit)"
      ],
      "metadata": {
        "colab": {
          "base_uri": "https://localhost:8080/"
        },
        "id": "uOU8gXiyDq3U",
        "outputId": "a75f5feb-c2f8-4a93-b835-5266ec2a91fe"
      },
      "execution_count": null,
      "outputs": [
        {
          "output_type": "stream",
          "name": "stdout",
          "text": [
            "Ad$ Profit\n",
            "0   0\n",
            "25   75\n",
            "50   90\n",
            "75   95\n",
            "100   100\n",
            "125   95\n",
            "150   90\n",
            "175   85\n",
            "200   80\n"
          ]
        }
      ]
    },
    {
      "cell_type": "code",
      "source": [
        "# Assignment 6\n",
        "\n",
        "L = []\n",
        "\n",
        "item = int(input('Give a value: '))\n",
        "\n",
        "while item != 0:\n",
        "  L.append(item)\n",
        "  item = int(input('Give another value: '))\n",
        "\n",
        "print(L)"
      ],
      "metadata": {
        "colab": {
          "base_uri": "https://localhost:8080/"
        },
        "id": "Nc3lwwxoIsHl",
        "outputId": "f8db0223-3c61-4738-c318-c4894bddb93b"
      },
      "execution_count": null,
      "outputs": [
        {
          "output_type": "stream",
          "name": "stdout",
          "text": [
            "Give a value: 9\n",
            "Give another value: 99\n",
            "Give another value: 86\n",
            "Give another value: 8700\n",
            "Give another value: 987\n",
            "Give another value: 0\n",
            "[9, 99, 86, 8700, 987]\n"
          ]
        }
      ]
    },
    {
      "cell_type": "code",
      "source": [
        "# Assignment 7\n",
        "\n",
        "L1 = [1,2,3,4]\n",
        "L2 = [1,2,5,6]\n",
        "\n",
        "for item in L1[:]: #slice to create new object so that they are both at same length\n",
        "  if item in L2:\n",
        "    L1.remove(item)\n",
        "\n",
        "print(L1)"
      ],
      "metadata": {
        "colab": {
          "base_uri": "https://localhost:8080/"
        },
        "id": "gNh5wwQHNP5b",
        "outputId": "7dbdc5a3-d69b-49ab-d042-019d0580a90e"
      },
      "execution_count": null,
      "outputs": [
        {
          "output_type": "stream",
          "name": "stdout",
          "text": [
            "[3, 4]\n"
          ]
        }
      ]
    },
    {
      "cell_type": "code",
      "source": [
        "# Assignment 8\n",
        "\n",
        "months = {} #empty dictionary\n",
        "\n",
        "names = ['Jan', 'Feb', 'Mar', 'Apr', 'May', 'Jun', 'Jul', 'Aug', 'Sep', 'Oct', 'Nov', 'Dec']\n",
        "numbers = [1,2,3,4,5,6,7,8,9,10,11,12]\n",
        "\n",
        "for idx in numbers:\n",
        "  months[idx] = names[idx-1]\n",
        "\n",
        "print(months)"
      ],
      "metadata": {
        "colab": {
          "base_uri": "https://localhost:8080/"
        },
        "id": "2gvKnJH641Sg",
        "outputId": "8b987c85-008f-4a68-8daa-553d48faa4a6"
      },
      "execution_count": null,
      "outputs": [
        {
          "output_type": "stream",
          "name": "stdout",
          "text": [
            "{1: 'Jan', 2: 'Feb', 3: 'Mar', 4: 'Apr', 5: 'May', 6: 'Jun', 7: 'Jul', 8: 'Aug', 9: 'Sep', 10: 'Oct', 11: 'Nov', 12: 'Dec'}\n"
          ]
        }
      ]
    },
    {
      "cell_type": "markdown",
      "source": [
        "iterating over a list, have to - 1 for names bc if not it will start in feb"
      ],
      "metadata": {
        "id": "GcFdZFzi9frX"
      }
    },
    {
      "cell_type": "code",
      "source": [
        "# Assignment 9 House Hunting\n",
        "\n",
        "annual_salary = float(input('Enter your annual salary: '))\n",
        "portion_saved = float(input('Enter your portion of salary saved: '))\n",
        "total_cost = float(input('Enter the cost of your dream home: '))\n",
        "\n",
        "portion_down_payment = 0.25\n",
        "current_savings = 0\n",
        "r = 0.04\n",
        "\n",
        "monthly_salary = annual_salary / 12\n",
        "down_payment = total_cost * portion_down_payment\n",
        "\n",
        "months = 0\n",
        "while current_savings < down_payment:\n",
        "  current_savings += current_savings * (r / 12) + monthly_salary * portion_saved\n",
        "  months += 1\n",
        "print('Number of months: ', months)"
      ],
      "metadata": {
        "colab": {
          "base_uri": "https://localhost:8080/"
        },
        "id": "wZJ7CrWvsi28",
        "outputId": "0e03510a-a047-4700-92fd-dd8c33b8618b"
      },
      "execution_count": 2,
      "outputs": [
        {
          "output_type": "stream",
          "name": "stdout",
          "text": [
            "Enter your annual salary: 50000\n",
            "Enter your portion of salary saved: 10000\n",
            "Enter the cost of your dream home: 250000\n",
            "Number of months:  1\n"
          ]
        }
      ]
    },
    {
      "cell_type": "code",
      "source": [
        "# Assignment 10\n",
        "\n",
        "annual_salary = float(input('Enter your annual salary: '))\n",
        "portion_saved = float(input('Enter your portion of salary to save: '))\n",
        "total_cost = float(input('Enter the cost of your dream home: '))\n",
        "semi_annual_raise = float(input('Enter the semi annual raise: '))\n",
        "\n",
        "portion_down_payment = 0.25\n",
        "current_savings = 0\n",
        "r = 0.04\n",
        "monthly_salary = annual_salary / 12\n",
        "down_payment = total_cost * portion_down_payment\n",
        "\n",
        "months = 0\n",
        "while current_savings < down_payment:\n",
        "  current_savings += current_savings * (r / 12) + monthly_salary * portion_saved\n",
        "  months += 1\n",
        "if months%6 == 0:\n",
        "  monthly_salary += monthly_salary * semi_annual_raise\n",
        "print('Number of months: ', months)\n"
      ],
      "metadata": {
        "id": "tlaqhigHt5Rr",
        "colab": {
          "base_uri": "https://localhost:8080/"
        },
        "outputId": "7248b3f5-1089-4226-f7ea-f6d13dd60823"
      },
      "execution_count": 3,
      "outputs": [
        {
          "output_type": "stream",
          "name": "stdout",
          "text": [
            "Enter your annual salary: 600000\n",
            "Enter your portion of salary to save: 200\n",
            "Enter the cost of your dream home: 250000\n",
            "Enter the semi annual raise: 1000\n",
            "Number of months:  1\n"
          ]
        }
      ]
    },
    {
      "cell_type": "code",
      "source": [
        "# Assignment 11\n",
        "\n",
        "def range_check(number, low, high):\n",
        "  if number >= low and number <= high:\n",
        "    return True\n",
        "  else:\n",
        "    return False"
      ],
      "metadata": {
        "id": "SsyBMAoORyXn"
      },
      "execution_count": 4,
      "outputs": []
    }
  ]
}