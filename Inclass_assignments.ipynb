{
  "nbformat": 4,
  "nbformat_minor": 0,
  "metadata": {
    "colab": {
      "provenance": [],
      "authorship_tag": "ABX9TyNwlKnaDNrU1jlTwO9HNBja",
      "include_colab_link": true
    },
    "kernelspec": {
      "name": "python3",
      "display_name": "Python 3"
    },
    "language_info": {
      "name": "python"
    }
  },
  "cells": [
    {
      "cell_type": "markdown",
      "metadata": {
        "id": "view-in-github",
        "colab_type": "text"
      },
      "source": [
        "<a href=\"https://colab.research.google.com/github/Axc3129/BTE320-in-class/blob/main/Inclass_assignments.ipynb\" target=\"_parent\"><img src=\"https://colab.research.google.com/assets/colab-badge.svg\" alt=\"Open In Colab\"/></a>"
      ]
    },
    {
      "cell_type": "code",
      "execution_count": null,
      "metadata": {
        "id": "l8WNeu8bkCtD",
        "colab": {
          "base_uri": "https://localhost:8080/"
        },
        "outputId": "76e72024-f61f-4414-956b-c45156507aef"
      },
      "outputs": [
        {
          "output_type": "stream",
          "name": "stdout",
          "text": [
            "244.92000000000002\n"
          ]
        }
      ],
      "source": [
        "# Calculate surface area cylinder\n",
        "pi = 3.14 # Pi\n",
        "h = 10 # Height\n",
        "r = 3 # Radius\n",
        "# Calc Area\n",
        "Area = 2*pi*r*h + 2*pi*r**2\n",
        "# Display result on screen\n",
        "print (Area)"
      ]
    },
    {
      "cell_type": "markdown",
      "source": [],
      "metadata": {
        "id": "nbwdAtWT2YsU"
      }
    },
    {
      "cell_type": "markdown",
      "source": [],
      "metadata": {
        "id": "k28cTr592YFq"
      }
    },
    {
      "cell_type": "code",
      "source": [
        "continue_playing =input('Play? yes or no: ')\n",
        "while continue_playing == 'yes':\n",
        "\n",
        "  p1 = input('Enter player 1 move(r-> rock, p-> paper, s-> scissors): ')\n",
        "  p2 = input('Enter player 2 move (r-> rock, p-> paper, s-> scissors): ')\n",
        "\n",
        "  if p1 == p2:\n",
        "    print (\"Draw\")\n",
        "  elif p1 == 'r' and p2 == 's':\n",
        "    print (\"Player 1 wins\")\n",
        "  elif p1 == 'p' and p2 == 'r':\n",
        "    print (\"Player 1 wins\")\n",
        "  elif p1 == 's' and p2 == 'p':\n",
        "    print (\"Player 1 wins\")\n",
        "  elif p1 == 's' and p2 == 'r':\n",
        "    print (\"Player 2 wins\")\n",
        "  elif p1 == 'r' and p2 == 'p':\n",
        "    print (\"Player 2 wins\")\n",
        "  elif p1 == 's' and p2 == 'p':\n",
        "    print (\"Player 2 wins\")\n",
        "\n",
        "  continue_playing =input('Play again? yes or no: ')"
      ],
      "metadata": {
        "id": "7Lx7tVKd0fWK",
        "colab": {
          "base_uri": "https://localhost:8080/"
        },
        "outputId": "d4390fd7-7a54-4237-c62c-b0c514a27221"
      },
      "execution_count": 15,
      "outputs": [
        {
          "name": "stdout",
          "output_type": "stream",
          "text": [
            "Play? yes or no: yes\n",
            "Enter player 1 move(r-> rock, p-> paper, s-> scissors): p\n",
            "Enter player 2 move (r-> rock, p-> paper, s-> scissors): r\n",
            "Player 1 wins\n",
            "Play again? yes or no: yes\n",
            "Enter player 1 move(r-> rock, p-> paper, s-> scissors): p\n",
            "Enter player 2 move (r-> rock, p-> paper, s-> scissors): s\n",
            "Play again? yes or no: no\n"
          ]
        }
      ]
    },
    {
      "cell_type": "code",
      "source": [
        "n1 = float(input('Enter first number: '))\n",
        "n2 = float(input('Enter second number: '))\n",
        "symbol= input('Enter symbol (+,-,*,/,**): ')\n",
        "\n",
        "if symbol == '+':\n",
        "  print (n1+n2)\n",
        "elif symbol == '-':\n",
        "  print (n1-n2)\n",
        "elif symbol == '*':\n",
        "  print (n1*n2)\n",
        "elif symbol == '/':\n",
        "  print (n1/n2)\n",
        "elif symbol == '**':\n",
        "  print (n1**n2)\n"
      ],
      "metadata": {
        "colab": {
          "base_uri": "https://localhost:8080/"
        },
        "id": "EmAG0QrS5Pi8",
        "outputId": "e97be5d7-2be7-487e-ea8d-1851bc8df2bb"
      },
      "execution_count": null,
      "outputs": [
        {
          "output_type": "stream",
          "name": "stdout",
          "text": [
            "Enter first number: 8\n",
            "Enter second number: 8\n",
            "Enter symbol (+,-,*,/,**): +\n",
            "16.0\n"
          ]
        }
      ]
    },
    {
      "cell_type": "code",
      "source": [],
      "metadata": {
        "id": "AU8fjqaJym9T"
      },
      "execution_count": null,
      "outputs": []
    }
  ]
}